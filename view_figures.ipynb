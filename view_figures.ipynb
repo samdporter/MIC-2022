{
 "cells": [
  {
   "cell_type": "code",
   "execution_count": null,
   "metadata": {},
   "outputs": [],
   "source": [
    "from sirf.STIR import ImageData\n",
    "import matplotlib.pyplot as plt\n",
    "import numpy as np"
   ]
  },
  {
   "cell_type": "code",
   "execution_count": null,
   "metadata": {},
   "outputs": [],
   "source": [
    "folder = \"/home/sam/working/Standalone_MIC/multirun/2022-09-23/10-24-13/2\"\n",
    "pdhg_str = \"/pdhg.hv\"\n",
    "bfgs_str = \"/bfgs.hv\"\n",
    "gd_str = \"/gd.hv\"\n",
    "grad_grad_str = \"/gd_grad.hv\"\n",
    "pdhg_grad_str = \"/pdhg_grad.hv\"\n",
    "bfgs_grad_str = \"/bfgs_grad.hv\"\n",
    "pd_gd_diff_str = \"/pd_gd_diff.hv\"\n"
   ]
  },
  {
   "cell_type": "code",
   "execution_count": null,
   "metadata": {},
   "outputs": [],
   "source": [
    "import matplotlib.image as mpimg\n",
    "img = mpimg.imread(folder + '/objectives.png')\n",
    "fig, ax = plt.subplots(figsize=(15, 20))\n",
    "ax.imshow(img)\n",
    "plt.show()"
   ]
  },
  {
   "cell_type": "code",
   "execution_count": null,
   "metadata": {},
   "outputs": [],
   "source": [
    "ImageData(folder+\"/ground_truth.hv\").show()"
   ]
  },
  {
   "cell_type": "code",
   "execution_count": null,
   "metadata": {},
   "outputs": [],
   "source": [
    "ImageData(folder+\"/init_image.hv\").show()\n",
    "ImageData(folder+\"/OSEM.hv\").show()\n",
    "ImageData(folder+gd_str).show()\n",
    "try:\n",
    "    ImageData(folder+\"/admm.hv\").show()\n",
    "except:\n",
    "    print(\"no ladmm\")\n",
    "ImageData(folder+\"/ladmm.hv\").show()\n",
    "ImageData(folder+pdhg_str).show()\n",
    "ImageData(folder+bfgs_str).show()"
   ]
  },
  {
   "cell_type": "code",
   "execution_count": null,
   "metadata": {},
   "outputs": [],
   "source": [
    "import matplotlib.colors as mcolors"
   ]
  },
  {
   "cell_type": "code",
   "execution_count": null,
   "metadata": {},
   "outputs": [],
   "source": [
    "grad_g = ImageData(folder+grad_grad_str)\n",
    "bfgs_g = ImageData(folder+bfgs_grad_str)\n",
    "pdhg_g = ImageData(folder+pdhg_grad_str)\n",
    "#admm_g = ImageData(folder+\"/admm_grad.hv\")\n",
    "ladmm_g = ImageData(folder+\"/ladmm_grad.hv\")\n",
    "\n",
    "gd = ImageData(folder+gd_str)\n",
    "bfgs = ImageData(folder+bfgs_str)\n",
    "pdhg = ImageData(folder+pdhg_str)\n",
    "#admm = ImageData(folder+\"/admm.hv\")\n",
    "ladmm = ImageData(folder+\"/ladmm.hv\")\n",
    "\n",
    "\n",
    "offset = mcolors.TwoSlopeNorm(vmin=np.min(pdhg_g.as_array()),\n",
    "                                  vcenter=0., vmax=pdhg_g.max())\n",
    "\n",
    "\n",
    "fig, ((ax1, ax2, ax3, ax4, ax5), (ax6, ax7, ax8, ax9, ax10)) = plt.subplots(figsize = (20,6), ncols = 5, nrows = 2)\n",
    "im1 = ax1.imshow(np.squeeze(grad_g.as_array()), vmin = - pdhg_g.max()/5, vmax = pdhg_g.max()/5, cmap = \"seismic\")#\n",
    "ax1.title.set_text('Gradient Descent')\n",
    "im2 = ax2.imshow(np.squeeze(bfgs_g.as_array()), vmin = - pdhg_g.max()/5, vmax = pdhg_g.max()/5, cmap = \"seismic\")\n",
    "ax2.title.set_text('L-BFGS-B')\n",
    "im3 = ax3.imshow(np.squeeze(pdhg_g.as_array()), vmin = - pdhg_g.max()/5, vmax = pdhg_g.max()/5, cmap = \"seismic\")\n",
    "ax3.title.set_text('PDHG')\n",
    "#im4 = ax4.imshow(np.squeeze(admm_g.as_array()), vmin = - pdhg_g.max()/5, vmax = pdhg_g.max()/5, cmap = \"seismic\")\n",
    "ax4.title.set_text('A-ADMM')\n",
    "im5 = ax5.imshow(np.squeeze(ladmm_g.as_array()), vmin = - pdhg_g.max()/5, vmax = pdhg_g.max()/5, cmap = \"seismic\")\n",
    "ax5.title.set_text('LADMM')\n",
    "\n",
    "im6 = ax6.imshow(np.squeeze(gd.as_array()), cmap = \"viridis\", vmax = gd.max())\n",
    "im7 = ax7.imshow(np.squeeze(bfgs.as_array()),  cmap = \"viridis\", vmax = gd.max())\n",
    "im8 = ax8.imshow(np.squeeze(pdhg.as_array()),  cmap = \"viridis\", vmax = gd.max())\n",
    "#im9 = ax9.imshow(np.squeeze(admm.as_array()),  cmap = \"viridis\", vmax = gd.max())\n",
    "im10 = ax10.imshow(np.squeeze(ladmm.as_array()),  cmap = \"viridis\", vmax = gd.max())\n",
    "\n",
    "fig.colorbar(im1, ax=ax1)\n",
    "fig.colorbar(im2, ax=ax2)\n",
    "fig.colorbar(im3, ax=ax3)\n",
    "fig.colorbar(im4, ax=ax4)\n",
    "fig.colorbar(im5, ax=ax5)\n",
    "fig.colorbar(im6, ax=ax6)\n",
    "fig.colorbar(im7, ax=ax7)\n",
    "fig.colorbar(im8, ax=ax8)\n",
    "fig.colorbar(im9, ax=ax9)\n",
    "fig.colorbar(im10, ax=ax10)"
   ]
  },
  {
   "cell_type": "code",
   "execution_count": null,
   "metadata": {},
   "outputs": [],
   "source": [
    "grad = ImageData(folder+gd_str)\n",
    "bfgs = ImageData(folder+bfgs_str)\n",
    "pdhg = ImageData(folder+pdhg_str)\n",
    "\n",
    "fig, (ax1, ax2, ax3) = plt.subplots(figsize = (20,5), ncols = 3)\n",
    "im1 = ax1.imshow(np.squeeze(grad.as_array()), vmin = -0.5, vmax = grad.max()//1.5)\n",
    "im2 = ax2.imshow(np.squeeze(bfgs.as_array()), vmin = -0.5, vmax = grad.max()//1.5)\n",
    "im3 = ax3.imshow(np.squeeze(pdhg.as_array()), vmin = -0.5, vmax = grad.max()//1.5)\n",
    "fig.colorbar(im2, ax=ax2)\n",
    "fig.colorbar(im3, ax=ax3)"
   ]
  },
  {
   "cell_type": "code",
   "execution_count": null,
   "metadata": {},
   "outputs": [],
   "source": []
  }
 ],
 "metadata": {
  "kernelspec": {
   "display_name": "Python 3.10.4 64-bit",
   "language": "python",
   "name": "python3"
  },
  "language_info": {
   "codemirror_mode": {
    "name": "ipython"
   },
   "file_extension": ".py",
   "mimetype": "text/x-python",
   "name": "python",
   "nbconvert_exporter": "python"
  },
  "vscode": {
   "interpreter": {
    "hash": "31f2aee4e71d21fbe5cf8b01ff0e069b9275f58929596ceb00d14d90e3e16cd6"
   }
  }
 },
 "nbformat": 4,
 "nbformat_minor": 2
}
